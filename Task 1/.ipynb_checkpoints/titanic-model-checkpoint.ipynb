{
 "cells": [
  {
   "cell_type": "markdown",
   "id": "2409b1d7",
   "metadata": {},
   "source": [
    "<h1 style=\"color: purple; font-family: 'Arial', sans-serif; font-size: 4em; font-weight: bold; text-decoration: underline;\">Titanic Dataset</h1>\n",
    "\n",
    "### 1. Data Cleaning & Processing\n",
    "### 2. EDA\n",
    "### 3. Data Processing for Model\n",
    "### 4. Model Building\n",
    "### 5. Evalution"
   ]
  },
  {
   "cell_type": "code",
   "execution_count": 1,
   "id": "9f8045dc",
   "metadata": {},
   "outputs": [],
   "source": [
    "import pandas as pd\n",
    "import numpy as np\n",
    "import warnings\n",
    "warnings.filterwarnings('ignore')"
   ]
  },
  {
   "cell_type": "markdown",
   "id": "97711093",
   "metadata": {
    "papermill": {
     "duration": 0.009487,
     "end_time": "2023-10-20T11:26:12.059794",
     "exception": false,
     "start_time": "2023-10-20T11:26:12.050307",
     "status": "completed"
    },
    "tags": []
   },
   "source": [
    "# Data Cleaning & Processing "
   ]
  },
  {
   "cell_type": "code",
   "execution_count": 2,
   "id": "b35ae485",
   "metadata": {
    "execution": {
     "iopub.execute_input": "2023-10-20T11:26:12.080173Z",
     "iopub.status.busy": "2023-10-20T11:26:12.079741Z",
     "iopub.status.idle": "2023-10-20T11:26:12.112093Z",
     "shell.execute_reply": "2023-10-20T11:26:12.111306Z"
    },
    "papermill": {
     "duration": 0.045252,
     "end_time": "2023-10-20T11:26:12.114420",
     "exception": false,
     "start_time": "2023-10-20T11:26:12.069168",
     "status": "completed"
    },
    "tags": []
   },
   "outputs": [],
   "source": [
    "df=pd.read_csv('Titanic-Dataset.csv')\n"
   ]
  },
  {
   "cell_type": "code",
   "execution_count": 3,
   "id": "6202c255",
   "metadata": {
    "execution": {
     "iopub.execute_input": "2023-10-20T11:26:12.143278Z",
     "iopub.status.busy": "2023-10-20T11:26:12.142648Z",
     "iopub.status.idle": "2023-10-20T11:26:12.150647Z",
     "shell.execute_reply": "2023-10-20T11:26:12.149875Z"
    },
    "papermill": {
     "duration": 0.020973,
     "end_time": "2023-10-20T11:26:12.152799",
     "exception": false,
     "start_time": "2023-10-20T11:26:12.131826",
     "status": "completed"
    },
    "tags": []
   },
   "outputs": [
    {
     "data": {
      "text/plain": [
       "(891, 12)"
      ]
     },
     "execution_count": 3,
     "metadata": {},
     "output_type": "execute_result"
    }
   ],
   "source": [
    "df.shape"
   ]
  },
  {
   "cell_type": "code",
   "execution_count": 4,
   "id": "ebe670cb",
   "metadata": {
    "execution": {
     "iopub.execute_input": "2023-10-20T11:26:12.173565Z",
     "iopub.status.busy": "2023-10-20T11:26:12.173215Z",
     "iopub.status.idle": "2023-10-20T11:26:12.179659Z",
     "shell.execute_reply": "2023-10-20T11:26:12.178639Z"
    },
    "papermill": {
     "duration": 0.0192,
     "end_time": "2023-10-20T11:26:12.181654",
     "exception": false,
     "start_time": "2023-10-20T11:26:12.162454",
     "status": "completed"
    },
    "tags": []
   },
   "outputs": [
    {
     "data": {
      "text/plain": [
       "Index(['PassengerId', 'Survived', 'Pclass', 'Name', 'Sex', 'Age', 'SibSp',\n",
       "       'Parch', 'Ticket', 'Fare', 'Cabin', 'Embarked'],\n",
       "      dtype='object')"
      ]
     },
     "execution_count": 4,
     "metadata": {},
     "output_type": "execute_result"
    }
   ],
   "source": [
    "df.columns"
   ]
  },
  {
   "cell_type": "code",
   "execution_count": 5,
   "id": "4c676847",
   "metadata": {
    "execution": {
     "iopub.execute_input": "2023-10-20T11:26:12.203079Z",
     "iopub.status.busy": "2023-10-20T11:26:12.202365Z",
     "iopub.status.idle": "2023-10-20T11:26:12.236917Z",
     "shell.execute_reply": "2023-10-20T11:26:12.235901Z"
    },
    "papermill": {
     "duration": 0.047821,
     "end_time": "2023-10-20T11:26:12.239362",
     "exception": false,
     "start_time": "2023-10-20T11:26:12.191541",
     "status": "completed"
    },
    "tags": []
   },
   "outputs": [
    {
     "name": "stdout",
     "output_type": "stream",
     "text": [
      "<class 'pandas.core.frame.DataFrame'>\n",
      "RangeIndex: 891 entries, 0 to 890\n",
      "Data columns (total 12 columns):\n",
      " #   Column       Non-Null Count  Dtype  \n",
      "---  ------       --------------  -----  \n",
      " 0   PassengerId  891 non-null    int64  \n",
      " 1   Survived     891 non-null    int64  \n",
      " 2   Pclass       891 non-null    int64  \n",
      " 3   Name         891 non-null    object \n",
      " 4   Sex          891 non-null    object \n",
      " 5   Age          714 non-null    float64\n",
      " 6   SibSp        891 non-null    int64  \n",
      " 7   Parch        891 non-null    int64  \n",
      " 8   Ticket       891 non-null    object \n",
      " 9   Fare         891 non-null    float64\n",
      " 10  Cabin        204 non-null    object \n",
      " 11  Embarked     889 non-null    object \n",
      "dtypes: float64(2), int64(5), object(5)\n",
      "memory usage: 83.7+ KB\n"
     ]
    }
   ],
   "source": [
    "df.info()"
   ]
  },
  {
   "cell_type": "code",
   "execution_count": 6,
   "id": "42be53a3",
   "metadata": {
    "execution": {
     "iopub.execute_input": "2023-10-20T11:26:12.260217Z",
     "iopub.status.busy": "2023-10-20T11:26:12.259373Z",
     "iopub.status.idle": "2023-10-20T11:26:12.267519Z",
     "shell.execute_reply": "2023-10-20T11:26:12.266673Z"
    },
    "papermill": {
     "duration": 0.020424,
     "end_time": "2023-10-20T11:26:12.269320",
     "exception": false,
     "start_time": "2023-10-20T11:26:12.248896",
     "status": "completed"
    },
    "tags": []
   },
   "outputs": [
    {
     "data": {
      "text/plain": [
       "PassengerId      0\n",
       "Survived         0\n",
       "Pclass           0\n",
       "Name             0\n",
       "Sex              0\n",
       "Age            177\n",
       "SibSp            0\n",
       "Parch            0\n",
       "Ticket           0\n",
       "Fare             0\n",
       "Cabin          687\n",
       "Embarked         2\n",
       "dtype: int64"
      ]
     },
     "execution_count": 6,
     "metadata": {},
     "output_type": "execute_result"
    }
   ],
   "source": [
    "df.isna().sum()"
   ]
  },
  {
   "cell_type": "markdown",
   "id": "d5289e3d",
   "metadata": {
    "papermill": {
     "duration": 0.009436,
     "end_time": "2023-10-20T11:26:12.288428",
     "exception": false,
     "start_time": "2023-10-20T11:26:12.278992",
     "status": "completed"
    },
    "tags": []
   },
   "source": [
    "# *EDA*"
   ]
  },
  {
   "cell_type": "code",
   "execution_count": 7,
   "id": "7d3c83f2",
   "metadata": {
    "execution": {
     "iopub.execute_input": "2023-10-20T11:26:12.309867Z",
     "iopub.status.busy": "2023-10-20T11:26:12.308849Z",
     "iopub.status.idle": "2023-10-20T11:26:13.634807Z",
     "shell.execute_reply": "2023-10-20T11:26:13.633669Z"
    },
    "papermill": {
     "duration": 1.339164,
     "end_time": "2023-10-20T11:26:13.637200",
     "exception": false,
     "start_time": "2023-10-20T11:26:12.298036",
     "status": "completed"
    },
    "tags": []
   },
   "outputs": [],
   "source": [
    "import matplotlib.pyplot as plt\n",
    "import seaborn as sns\n",
    "import matplotlib\n",
    "%matplotlib inline"
   ]
  },
  {
   "cell_type": "markdown",
   "id": "295cc2c3",
   "metadata": {
    "papermill": {
     "duration": 0.009619,
     "end_time": "2023-10-20T11:26:13.657117",
     "exception": false,
     "start_time": "2023-10-20T11:26:13.647498",
     "status": "completed"
    },
    "tags": []
   },
   "source": [
    "## Survival rate based on Sex"
   ]
  },
  {
   "cell_type": "code",
   "execution_count": 8,
   "id": "db177808",
   "metadata": {
    "execution": {
     "iopub.execute_input": "2023-10-20T11:26:13.678907Z",
     "iopub.status.busy": "2023-10-20T11:26:13.678552Z",
     "iopub.status.idle": "2023-10-20T11:26:13.982613Z",
     "shell.execute_reply": "2023-10-20T11:26:13.981226Z"
    },
    "papermill": {
     "duration": 0.317865,
     "end_time": "2023-10-20T11:26:13.985072",
     "exception": false,
     "start_time": "2023-10-20T11:26:13.667207",
     "status": "completed"
    },
    "tags": []
   },
   "outputs": [
    {
     "data": {
      "image/png": "[encoded data removed]",
      "text/plain": [
       "<Figure size 640x480 with 1 Axes>"
      ]
     },
     "metadata": {},
     "output_type": "display_data"
    }
   ],
   "source": [
    "sns.countplot(data=df,x='Survived',hue='Sex');\n",
    "plt.title(\"Survival rate Based on Sex\");"
   ]
  },
  {
   "cell_type": "markdown",
   "id": "885b9626",
   "metadata": {
    "papermill": {
     "duration": 0.072545,
     "end_time": "2023-10-20T11:26:14.068122",
     "exception": false,
     "start_time": "2023-10-20T11:26:13.995577",
     "status": "completed"
    },
    "tags": []
   },
   "source": [
    "## Survival Rate based on Age"
   ]
  },
  {
   "cell_type": "code",
   "execution_count": 9,
   "id": "7f1431fe",
   "metadata": {
    "execution": {
     "iopub.execute_input": "2023-10-20T11:26:14.091183Z",
     "iopub.status.busy": "2023-10-20T11:26:14.090829Z",
     "iopub.status.idle": "2023-10-20T11:26:14.099223Z",
     "shell.execute_reply": "2023-10-20T11:26:14.098185Z"
    },
    "papermill": {
     "duration": 0.022418,
     "end_time": "2023-10-20T11:26:14.101223",
     "exception": false,
     "start_time": "2023-10-20T11:26:14.078805",
     "status": "completed"
    },
    "tags": []
   },
   "outputs": [],
   "source": [
    "def classify_age(value):\n",
    "    if value<18:\n",
    "        return 'child'\n",
    "    elif value>=18 and value<=40:\n",
    "        return 'adult'\n",
    "    else:\n",
    "        return \"old\"\n",
    "\n",
    "df['age_group']=df.Age.apply(classify_age)\n"
   ]
  },
  {
   "cell_type": "code",
   "execution_count": 10,
   "id": "8a331440",
   "metadata": {
    "execution": {
     "iopub.execute_input": "2023-10-20T11:26:14.124989Z",
     "iopub.status.busy": "2023-10-20T11:26:14.124457Z",
     "iopub.status.idle": "2023-10-20T11:26:14.143623Z",
     "shell.execute_reply": "2023-10-20T11:26:14.142791Z"
    },
    "papermill": {
     "duration": 0.033829,
     "end_time": "2023-10-20T11:26:14.145555",
     "exception": false,
     "start_time": "2023-10-20T11:26:14.111726",
     "status": "completed"
    },
    "tags": []
   },
   "outputs": [
    {
     "data": {
      "text/html": [
       "<div>\n",
       "<style scoped>\n",
       "    .dataframe tbody tr th:only-of-type {\n",
       "        vertical-align: middle;\n",
       "    }\n",
       "\n",
       "    .dataframe tbody tr th {\n",
       "        vertical-align: top;\n",
       "    }\n",
       "\n",
       "    .dataframe thead th {\n",
       "        text-align: right;\n",
       "    }\n",
       "</style>\n",
       "<table border=\"1\" class=\"dataframe\">\n",
       "  <thead>\n",
       "    <tr style=\"text-align: right;\">\n",
       "      <th></th>\n",
       "      <th>PassengerId</th>\n",
       "      <th>Survived</th>\n",
       "      <th>Pclass</th>\n",
       "      <th>Name</th>\n",
       "      <th>Sex</th>\n",
       "      <th>Age</th>\n",
       "      <th>SibSp</th>\n",
       "      <th>Parch</th>\n",
       "      <th>Ticket</th>\n",
       "      <th>Fare</th>\n",
       "      <th>Cabin</th>\n",
       "      <th>Embarked</th>\n",
       "      <th>age_group</th>\n",
       "    </tr>\n",
       "  </thead>\n",
       "  <tbody>\n",
       "    <tr>\n",
       "      <th>803</th>\n",
       "      <td>804</td>\n",
       "      <td>1</td>\n",
       "      <td>3</td>\n",
       "      <td>Thomas, Master. Assad Alexander</td>\n",
       "      <td>male</td>\n",
       "      <td>0.42</td>\n",
       "      <td>0</td>\n",
       "      <td>1</td>\n",
       "      <td>2625</td>\n",
       "      <td>8.5167</td>\n",
       "      <td>NaN</td>\n",
       "      <td>C</td>\n",
       "      <td>child</td>\n",
       "    </tr>\n",
       "    <tr>\n",
       "      <th>609</th>\n",
       "      <td>610</td>\n",
       "      <td>1</td>\n",
       "      <td>1</td>\n",
       "      <td>Shutes, Miss. Elizabeth W</td>\n",
       "      <td>female</td>\n",
       "      <td>40.00</td>\n",
       "      <td>0</td>\n",
       "      <td>0</td>\n",
       "      <td>PC 17582</td>\n",
       "      <td>153.4625</td>\n",
       "      <td>C125</td>\n",
       "      <td>S</td>\n",
       "      <td>adult</td>\n",
       "    </tr>\n",
       "    <tr>\n",
       "      <th>267</th>\n",
       "      <td>268</td>\n",
       "      <td>1</td>\n",
       "      <td>3</td>\n",
       "      <td>Persson, Mr. Ernst Ulrik</td>\n",
       "      <td>male</td>\n",
       "      <td>25.00</td>\n",
       "      <td>1</td>\n",
       "      <td>0</td>\n",
       "      <td>347083</td>\n",
       "      <td>7.7750</td>\n",
       "      <td>NaN</td>\n",
       "      <td>S</td>\n",
       "      <td>adult</td>\n",
       "    </tr>\n",
       "  </tbody>\n",
       "</table>\n",
       "</div>"
      ],
      "text/plain": [
       "     PassengerId  Survived  Pclass                             Name     Sex  \\\n",
       "803          804         1       3  Thomas, Master. Assad Alexander    male   \n",
       "609          610         1       1        Shutes, Miss. Elizabeth W  female   \n",
       "267          268         1       3         Persson, Mr. Ernst Ulrik    male   \n",
       "\n",
       "       Age  SibSp  Parch    Ticket      Fare Cabin Embarked age_group  \n",
       "803   0.42      0      1      2625    8.5167   NaN        C     child  \n",
       "609  40.00      0      0  PC 17582  153.4625  C125        S     adult  \n",
       "267  25.00      1      0    347083    7.7750   NaN        S     adult  "
      ]
     },
     "execution_count": 10,
     "metadata": {},
     "output_type": "execute_result"
    }
   ],
   "source": [
    "df.sample(3)"
   ]
  },
  {
   "cell_type": "code",
   "execution_count": 11,
   "id": "1869bdde",
   "metadata": {
    "execution": {
     "iopub.execute_input": "2023-10-20T11:26:14.169524Z",
     "iopub.status.busy": "2023-10-20T11:26:14.168842Z",
     "iopub.status.idle": "2023-10-20T11:26:14.456372Z",
     "shell.execute_reply": "2023-10-20T11:26:14.455477Z"
    },
    "papermill": {
     "duration": 0.302156,
     "end_time": "2023-10-20T11:26:14.458439",
     "exception": false,
     "start_time": "2023-10-20T11:26:14.156283",
     "status": "completed"
    },
    "tags": []
   },
   "outputs": [
    {
     "data": {
      "image/png": "[encoded data removed]",
      "text/plain": [
       "<Figure size 640x480 with 1 Axes>"
      ]
     },
     "metadata": {},
     "output_type": "display_data"
    }
   ],
   "source": [
    "sns.countplot(data=df,x='age_group',hue='Survived');\n",
    "plt.title(\"Survival Rate based on Age\");"
   ]
  },
  {
   "cell_type": "code",
   "execution_count": 12,
   "id": "9dae66f5",
   "metadata": {
    "execution": {
     "iopub.execute_input": "2023-10-20T11:26:14.481501Z",
     "iopub.status.busy": "2023-10-20T11:26:14.481136Z",
     "iopub.status.idle": "2023-10-20T11:26:14.813608Z",
     "shell.execute_reply": "2023-10-20T11:26:14.812392Z"
    },
    "papermill": {
     "duration": 0.346713,
     "end_time": "2023-10-20T11:26:14.815944",
     "exception": false,
     "start_time": "2023-10-20T11:26:14.469231",
     "status": "completed"
    },
    "tags": []
   },
   "outputs": [
    {
     "data": {
      "image/png": "[encoded data removed]",
      "text/plain": [
       "<Figure size 640x480 with 1 Axes>"
      ]
     },
     "metadata": {},
     "output_type": "display_data"
    }
   ],
   "source": [
    "df[df.Survived==1].Age.value_counts().sort_index().plot();\n",
    "plt.ylabel(\"Count\");\n",
    "plt.title(\"Survival rate based on Age\");\n"
   ]
  },
  {
   "cell_type": "markdown",
   "id": "c6f2c629",
   "metadata": {
    "execution": {
     "iopub.execute_input": "2023-10-19T02:52:45.046324Z",
     "iopub.status.busy": "2023-10-19T02:52:45.046001Z",
     "iopub.status.idle": "2023-10-19T02:52:45.061492Z",
     "shell.execute_reply": "2023-10-19T02:52:45.059631Z",
     "shell.execute_reply.started": "2023-10-19T02:52:45.046302Z"
    },
    "papermill": {
     "duration": 0.011552,
     "end_time": "2023-10-20T11:26:14.839969",
     "exception": false,
     "start_time": "2023-10-20T11:26:14.828417",
     "status": "completed"
    },
    "tags": []
   },
   "source": [
    "## Survived rate based on fare"
   ]
  },
  {
   "cell_type": "code",
   "execution_count": 13,
   "id": "91b6eb46",
   "metadata": {
    "execution": {
     "iopub.execute_input": "2023-10-20T11:26:14.865461Z",
     "iopub.status.busy": "2023-10-20T11:26:14.865047Z",
     "iopub.status.idle": "2023-10-20T11:26:14.881151Z",
     "shell.execute_reply": "2023-10-20T11:26:14.880411Z"
    },
    "papermill": {
     "duration": 0.031123,
     "end_time": "2023-10-20T11:26:14.882878",
     "exception": false,
     "start_time": "2023-10-20T11:26:14.851755",
     "status": "completed"
    },
    "tags": []
   },
   "outputs": [
    {
     "data": {
      "text/html": [
       "<div>\n",
       "<style scoped>\n",
       "    .dataframe tbody tr th:only-of-type {\n",
       "        vertical-align: middle;\n",
       "    }\n",
       "\n",
       "    .dataframe tbody tr th {\n",
       "        vertical-align: top;\n",
       "    }\n",
       "\n",
       "    .dataframe thead th {\n",
       "        text-align: right;\n",
       "    }\n",
       "</style>\n",
       "<table border=\"1\" class=\"dataframe\">\n",
       "  <thead>\n",
       "    <tr style=\"text-align: right;\">\n",
       "      <th></th>\n",
       "      <th>PassengerId</th>\n",
       "      <th>Survived</th>\n",
       "      <th>Pclass</th>\n",
       "      <th>Name</th>\n",
       "      <th>Sex</th>\n",
       "      <th>Age</th>\n",
       "      <th>SibSp</th>\n",
       "      <th>Parch</th>\n",
       "      <th>Ticket</th>\n",
       "      <th>Fare</th>\n",
       "      <th>Cabin</th>\n",
       "      <th>Embarked</th>\n",
       "      <th>age_group</th>\n",
       "    </tr>\n",
       "  </thead>\n",
       "  <tbody>\n",
       "    <tr>\n",
       "      <th>1</th>\n",
       "      <td>2</td>\n",
       "      <td>1</td>\n",
       "      <td>1</td>\n",
       "      <td>Cumings, Mrs. John Bradley (Florence Briggs Th...</td>\n",
       "      <td>female</td>\n",
       "      <td>38.0</td>\n",
       "      <td>1</td>\n",
       "      <td>0</td>\n",
       "      <td>PC 17599</td>\n",
       "      <td>71.2833</td>\n",
       "      <td>C85</td>\n",
       "      <td>C</td>\n",
       "      <td>adult</td>\n",
       "    </tr>\n",
       "    <tr>\n",
       "      <th>2</th>\n",
       "      <td>3</td>\n",
       "      <td>1</td>\n",
       "      <td>3</td>\n",
       "      <td>Heikkinen, Miss. Laina</td>\n",
       "      <td>female</td>\n",
       "      <td>26.0</td>\n",
       "      <td>0</td>\n",
       "      <td>0</td>\n",
       "      <td>STON/O2. 3101282</td>\n",
       "      <td>7.9250</td>\n",
       "      <td>NaN</td>\n",
       "      <td>S</td>\n",
       "      <td>adult</td>\n",
       "    </tr>\n",
       "  </tbody>\n",
       "</table>\n",
       "</div>"
      ],
      "text/plain": [
       "   PassengerId  Survived  Pclass  \\\n",
       "1            2         1       1   \n",
       "2            3         1       3   \n",
       "\n",
       "                                                Name     Sex   Age  SibSp  \\\n",
       "1  Cumings, Mrs. John Bradley (Florence Briggs Th...  female  38.0      1   \n",
       "2                             Heikkinen, Miss. Laina  female  26.0      0   \n",
       "\n",
       "   Parch            Ticket     Fare Cabin Embarked age_group  \n",
       "1      0          PC 17599  71.2833   C85        C     adult  \n",
       "2      0  STON/O2. 3101282   7.9250   NaN        S     adult  "
      ]
     },
     "execution_count": 13,
     "metadata": {},
     "output_type": "execute_result"
    }
   ],
   "source": [
    "survived_df=df[df.Survived==1]\n",
    "survived_df.head(2)"
   ]
  },
  {
   "cell_type": "code",
   "execution_count": 14,
   "id": "54ae9fb0",
   "metadata": {
    "execution": {
     "iopub.execute_input": "2023-10-20T11:26:14.908722Z",
     "iopub.status.busy": "2023-10-20T11:26:14.907886Z",
     "iopub.status.idle": "2023-10-20T11:26:15.242491Z",
     "shell.execute_reply": "2023-10-20T11:26:15.241387Z"
    },
    "papermill": {
     "duration": 0.35018,
     "end_time": "2023-10-20T11:26:15.244773",
     "exception": false,
     "start_time": "2023-10-20T11:26:14.894593",
     "status": "completed"
    },
    "tags": []
   },
   "outputs": [
    {
     "data": {
      "image/png": "[encoded data removed]",
      "text/plain": [
       "<Figure size 640x480 with 1 Axes>"
      ]
     },
     "metadata": {},
     "output_type": "display_data"
    }
   ],
   "source": [
    "sns.histplot(data=survived_df,x='Fare',kde=True,binwidth=50);\n",
    "plt.title(\"Based on Fare peope Survived\");"
   ]
  },
  {
   "cell_type": "markdown",
   "id": "07690569",
   "metadata": {
    "papermill": {
     "duration": 0.012143,
     "end_time": "2023-10-20T11:26:15.269024",
     "exception": false,
     "start_time": "2023-10-20T11:26:15.256881",
     "status": "completed"
    },
    "tags": []
   },
   "source": [
    "## Based on Pclass"
   ]
  },
  {
   "cell_type": "code",
   "execution_count": 15,
   "id": "9882e545",
   "metadata": {
    "execution": {
     "iopub.execute_input": "2023-10-20T11:26:15.295284Z",
     "iopub.status.busy": "2023-10-20T11:26:15.294909Z",
     "iopub.status.idle": "2023-10-20T11:26:15.588248Z",
     "shell.execute_reply": "2023-10-20T11:26:15.587042Z"
    },
    "papermill": {
     "duration": 0.309284,
     "end_time": "2023-10-20T11:26:15.590735",
     "exception": false,
     "start_time": "2023-10-20T11:26:15.281451",
     "status": "completed"
    },
    "tags": []
   },
   "outputs": [
    {
     "data": {
      "image/png": "[encoded data removed]",
      "text/plain": [
       "<Figure size 640x480 with 1 Axes>"
      ]
     },
     "metadata": {},
     "output_type": "display_data"
    }
   ],
   "source": [
    "sns.countplot(data=df,x='Pclass',hue='Survived');\n",
    "plt.title(\"Survival rate basd on Pclass\");"
   ]
  },
  {
   "cell_type": "code",
   "execution_count": 16,
   "id": "e06b8a98",
   "metadata": {
    "execution": {
     "iopub.execute_input": "2023-10-20T11:26:15.617184Z",
     "iopub.status.busy": "2023-10-20T11:26:15.616842Z",
     "iopub.status.idle": "2023-10-20T11:26:15.899224Z",
     "shell.execute_reply": "2023-10-20T11:26:15.898390Z"
    },
    "papermill": {
     "duration": 0.297715,
     "end_time": "2023-10-20T11:26:15.901108",
     "exception": false,
     "start_time": "2023-10-20T11:26:15.603393",
     "status": "completed"
    },
    "tags": []
   },
   "outputs": [
    {
     "data": {
      "image/png": "[encoded data removed]",
      "text/plain": [
       "<Figure size 640x480 with 1 Axes>"
      ]
     },
     "metadata": {},
     "output_type": "display_data"
    }
   ],
   "source": [
    "sibsp_df=df[df.Survived==1][['SibSp','Survived']].groupby(\"SibSp\",as_index=False).Survived.count()\n",
    "sns.barplot(data=sibsp_df,x='SibSp',y='Survived');\n",
    "plt.title(\"Survival Rate based on Siblings\");"
   ]
  },
  {
   "cell_type": "markdown",
   "id": "00ed344c",
   "metadata": {
    "papermill": {
     "duration": 0.012689,
     "end_time": "2023-10-20T11:26:15.926999",
     "exception": false,
     "start_time": "2023-10-20T11:26:15.914310",
     "status": "completed"
    },
    "tags": []
   },
   "source": [
    "# Data Processing for Model"
   ]
  },
  {
   "cell_type": "code",
   "execution_count": 17,
   "id": "33e2bcf8",
   "metadata": {
    "execution": {
     "iopub.execute_input": "2023-10-20T11:26:15.955167Z",
     "iopub.status.busy": "2023-10-20T11:26:15.954142Z",
     "iopub.status.idle": "2023-10-20T11:26:15.968456Z",
     "shell.execute_reply": "2023-10-20T11:26:15.967459Z"
    },
    "papermill": {
     "duration": 0.030567,
     "end_time": "2023-10-20T11:26:15.970632",
     "exception": false,
     "start_time": "2023-10-20T11:26:15.940065",
     "status": "completed"
    },
    "tags": []
   },
   "outputs": [
    {
     "data": {
      "text/html": [
       "<div>\n",
       "<style scoped>\n",
       "    .dataframe tbody tr th:only-of-type {\n",
       "        vertical-align: middle;\n",
       "    }\n",
       "\n",
       "    .dataframe tbody tr th {\n",
       "        vertical-align: top;\n",
       "    }\n",
       "\n",
       "    .dataframe thead th {\n",
       "        text-align: right;\n",
       "    }\n",
       "</style>\n",
       "<table border=\"1\" class=\"dataframe\">\n",
       "  <thead>\n",
       "    <tr style=\"text-align: right;\">\n",
       "      <th></th>\n",
       "      <th>PassengerId</th>\n",
       "      <th>Survived</th>\n",
       "      <th>Pclass</th>\n",
       "      <th>Name</th>\n",
       "      <th>Sex</th>\n",
       "      <th>Age</th>\n",
       "      <th>SibSp</th>\n",
       "      <th>Parch</th>\n",
       "      <th>Ticket</th>\n",
       "      <th>Fare</th>\n",
       "      <th>Cabin</th>\n",
       "      <th>Embarked</th>\n",
       "      <th>age_group</th>\n",
       "    </tr>\n",
       "  </thead>\n",
       "  <tbody>\n",
       "    <tr>\n",
       "      <th>0</th>\n",
       "      <td>1</td>\n",
       "      <td>0</td>\n",
       "      <td>3</td>\n",
       "      <td>Braund, Mr. Owen Harris</td>\n",
       "      <td>male</td>\n",
       "      <td>22.0</td>\n",
       "      <td>1</td>\n",
       "      <td>0</td>\n",
       "      <td>A/5 21171</td>\n",
       "      <td>7.2500</td>\n",
       "      <td>NaN</td>\n",
       "      <td>S</td>\n",
       "      <td>adult</td>\n",
       "    </tr>\n",
       "    <tr>\n",
       "      <th>1</th>\n",
       "      <td>2</td>\n",
       "      <td>1</td>\n",
       "      <td>1</td>\n",
       "      <td>Cumings, Mrs. John Bradley (Florence Briggs Th...</td>\n",
       "      <td>female</td>\n",
       "      <td>38.0</td>\n",
       "      <td>1</td>\n",
       "      <td>0</td>\n",
       "      <td>PC 17599</td>\n",
       "      <td>71.2833</td>\n",
       "      <td>C85</td>\n",
       "      <td>C</td>\n",
       "      <td>adult</td>\n",
       "    </tr>\n",
       "  </tbody>\n",
       "</table>\n",
       "</div>"
      ],
      "text/plain": [
       "   PassengerId  Survived  Pclass  \\\n",
       "0            1         0       3   \n",
       "1            2         1       1   \n",
       "\n",
       "                                                Name     Sex   Age  SibSp  \\\n",
       "0                            Braund, Mr. Owen Harris    male  22.0      1   \n",
       "1  Cumings, Mrs. John Bradley (Florence Briggs Th...  female  38.0      1   \n",
       "\n",
       "   Parch     Ticket     Fare Cabin Embarked age_group  \n",
       "0      0  A/5 21171   7.2500   NaN        S     adult  \n",
       "1      0   PC 17599  71.2833   C85        C     adult  "
      ]
     },
     "execution_count": 17,
     "metadata": {},
     "output_type": "execute_result"
    }
   ],
   "source": [
    "df.head(2)"
   ]
  },
  {
   "cell_type": "code",
   "execution_count": 18,
   "id": "35515598",
   "metadata": {
    "execution": {
     "iopub.execute_input": "2023-10-20T11:26:15.998913Z",
     "iopub.status.busy": "2023-10-20T11:26:15.998020Z",
     "iopub.status.idle": "2023-10-20T11:26:16.003665Z",
     "shell.execute_reply": "2023-10-20T11:26:16.002849Z"
    },
    "papermill": {
     "duration": 0.021534,
     "end_time": "2023-10-20T11:26:16.005518",
     "exception": false,
     "start_time": "2023-10-20T11:26:15.983984",
     "status": "completed"
    },
    "tags": []
   },
   "outputs": [],
   "source": [
    "df.drop(['PassengerId','Name','Ticket',\"Cabin\",\"Age\",'Embarked'],axis=1,inplace=True)"
   ]
  },
  {
   "cell_type": "code",
   "execution_count": 19,
   "id": "ecab4e78",
   "metadata": {
    "execution": {
     "iopub.execute_input": "2023-10-20T11:26:16.068328Z",
     "iopub.status.busy": "2023-10-20T11:26:16.067215Z",
     "iopub.status.idle": "2023-10-20T11:26:16.073213Z",
     "shell.execute_reply": "2023-10-20T11:26:16.072078Z"
    },
    "papermill": {
     "duration": 0.021905,
     "end_time": "2023-10-20T11:26:16.075415",
     "exception": false,
     "start_time": "2023-10-20T11:26:16.053510",
     "status": "completed"
    },
    "tags": []
   },
   "outputs": [],
   "source": [
    "inputs=df.drop('Survived',axis=1)\n",
    "targets=df.Survived"
   ]
  },
  {
   "cell_type": "code",
   "execution_count": 20,
   "id": "4859f73a",
   "metadata": {
    "execution": {
     "iopub.execute_input": "2023-10-20T11:26:16.104200Z",
     "iopub.status.busy": "2023-10-20T11:26:16.103823Z",
     "iopub.status.idle": "2023-10-20T11:26:16.109031Z",
     "shell.execute_reply": "2023-10-20T11:26:16.108356Z"
    },
    "papermill": {
     "duration": 0.02186,
     "end_time": "2023-10-20T11:26:16.110925",
     "exception": false,
     "start_time": "2023-10-20T11:26:16.089065",
     "status": "completed"
    },
    "tags": []
   },
   "outputs": [],
   "source": [
    "numeric_cols=inputs.select_dtypes(include='number').columns.tolist()\n",
    "categorical_cols=inputs.select_dtypes(include='O').columns.tolist()\n"
   ]
  },
  {
   "cell_type": "code",
   "execution_count": 21,
   "id": "68601715",
   "metadata": {
    "execution": {
     "iopub.execute_input": "2023-10-20T11:26:16.138534Z",
     "iopub.status.busy": "2023-10-20T11:26:16.138192Z",
     "iopub.status.idle": "2023-10-20T11:26:16.148442Z",
     "shell.execute_reply": "2023-10-20T11:26:16.147393Z"
    },
    "papermill": {
     "duration": 0.026353,
     "end_time": "2023-10-20T11:26:16.150509",
     "exception": false,
     "start_time": "2023-10-20T11:26:16.124156",
     "status": "completed"
    },
    "tags": []
   },
   "outputs": [
    {
     "data": {
      "text/html": [
       "<div>\n",
       "<style scoped>\n",
       "    .dataframe tbody tr th:only-of-type {\n",
       "        vertical-align: middle;\n",
       "    }\n",
       "\n",
       "    .dataframe tbody tr th {\n",
       "        vertical-align: top;\n",
       "    }\n",
       "\n",
       "    .dataframe thead th {\n",
       "        text-align: right;\n",
       "    }\n",
       "</style>\n",
       "<table border=\"1\" class=\"dataframe\">\n",
       "  <thead>\n",
       "    <tr style=\"text-align: right;\">\n",
       "      <th></th>\n",
       "      <th>Survived</th>\n",
       "      <th>Pclass</th>\n",
       "      <th>Sex</th>\n",
       "      <th>SibSp</th>\n",
       "      <th>Parch</th>\n",
       "      <th>Fare</th>\n",
       "      <th>age_group</th>\n",
       "    </tr>\n",
       "  </thead>\n",
       "  <tbody>\n",
       "    <tr>\n",
       "      <th>0</th>\n",
       "      <td>0</td>\n",
       "      <td>3</td>\n",
       "      <td>male</td>\n",
       "      <td>1</td>\n",
       "      <td>0</td>\n",
       "      <td>7.2500</td>\n",
       "      <td>adult</td>\n",
       "    </tr>\n",
       "    <tr>\n",
       "      <th>1</th>\n",
       "      <td>1</td>\n",
       "      <td>1</td>\n",
       "      <td>female</td>\n",
       "      <td>1</td>\n",
       "      <td>0</td>\n",
       "      <td>71.2833</td>\n",
       "      <td>adult</td>\n",
       "    </tr>\n",
       "  </tbody>\n",
       "</table>\n",
       "</div>"
      ],
      "text/plain": [
       "   Survived  Pclass     Sex  SibSp  Parch     Fare age_group\n",
       "0         0       3    male      1      0   7.2500     adult\n",
       "1         1       1  female      1      0  71.2833     adult"
      ]
     },
     "execution_count": 21,
     "metadata": {},
     "output_type": "execute_result"
    }
   ],
   "source": [
    "df.head(2)"
   ]
  },
  {
   "cell_type": "markdown",
   "id": "528e6a81",
   "metadata": {
    "papermill": {
     "duration": 0.013039,
     "end_time": "2023-10-20T11:26:16.216981",
     "exception": false,
     "start_time": "2023-10-20T11:26:16.203942",
     "status": "completed"
    },
    "tags": []
   },
   "source": [
    "## Imputer"
   ]
  },
  {
   "cell_type": "code",
   "execution_count": 22,
   "id": "6f82927a",
   "metadata": {
    "execution": {
     "iopub.execute_input": "2023-10-20T11:26:16.244893Z",
     "iopub.status.busy": "2023-10-20T11:26:16.244529Z",
     "iopub.status.idle": "2023-10-20T11:26:16.252090Z",
     "shell.execute_reply": "2023-10-20T11:26:16.251407Z"
    },
    "papermill": {
     "duration": 0.023761,
     "end_time": "2023-10-20T11:26:16.253889",
     "exception": false,
     "start_time": "2023-10-20T11:26:16.230128",
     "status": "completed"
    },
    "tags": []
   },
   "outputs": [
    {
     "data": {
      "text/plain": [
       "Pclass    0\n",
       "SibSp     0\n",
       "Parch     0\n",
       "Fare      0\n",
       "dtype: int64"
      ]
     },
     "execution_count": 22,
     "metadata": {},
     "output_type": "execute_result"
    }
   ],
   "source": [
    "inputs[numeric_cols].isna().sum()"
   ]
  },
  {
   "cell_type": "code",
   "execution_count": 23,
   "id": "9a0faf12",
   "metadata": {
    "execution": {
     "iopub.execute_input": "2023-10-20T11:26:16.282888Z",
     "iopub.status.busy": "2023-10-20T11:26:16.281861Z",
     "iopub.status.idle": "2023-10-20T11:26:16.291208Z",
     "shell.execute_reply": "2023-10-20T11:26:16.290220Z"
    },
    "papermill": {
     "duration": 0.026093,
     "end_time": "2023-10-20T11:26:16.293494",
     "exception": false,
     "start_time": "2023-10-20T11:26:16.267401",
     "status": "completed"
    },
    "tags": []
   },
   "outputs": [
    {
     "data": {
      "text/plain": [
       "Sex          0\n",
       "age_group    0\n",
       "dtype: int64"
      ]
     },
     "execution_count": 23,
     "metadata": {},
     "output_type": "execute_result"
    }
   ],
   "source": [
    "inputs[categorical_cols].isna().sum()"
   ]
  },
  {
   "cell_type": "markdown",
   "id": "599c2d38",
   "metadata": {
    "papermill": {
     "duration": 0.015052,
     "end_time": "2023-10-20T11:26:16.437058",
     "exception": false,
     "start_time": "2023-10-20T11:26:16.422006",
     "status": "completed"
    },
    "tags": []
   },
   "source": [
    "## Scaling"
   ]
  },
  {
   "cell_type": "code",
   "execution_count": 24,
   "id": "7c0a1569",
   "metadata": {
    "execution": {
     "iopub.execute_input": "2023-10-20T11:26:16.465799Z",
     "iopub.status.busy": "2023-10-20T11:26:16.465431Z",
     "iopub.status.idle": "2023-10-20T11:26:16.611834Z",
     "shell.execute_reply": "2023-10-20T11:26:16.610805Z"
    },
    "papermill": {
     "duration": 0.163659,
     "end_time": "2023-10-20T11:26:16.614317",
     "exception": false,
     "start_time": "2023-10-20T11:26:16.450658",
     "status": "completed"
    },
    "tags": []
   },
   "outputs": [],
   "source": [
    "from sklearn.preprocessing import MinMaxScaler\n",
    "scaler=MinMaxScaler().fit(inputs[numeric_cols])"
   ]
  },
  {
   "cell_type": "code",
   "execution_count": 25,
   "id": "98f96192",
   "metadata": {
    "execution": {
     "iopub.execute_input": "2023-10-20T11:26:16.644454Z",
     "iopub.status.busy": "2023-10-20T11:26:16.643665Z",
     "iopub.status.idle": "2023-10-20T11:26:16.653897Z",
     "shell.execute_reply": "2023-10-20T11:26:16.653065Z"
    },
    "papermill": {
     "duration": 0.027718,
     "end_time": "2023-10-20T11:26:16.656103",
     "exception": false,
     "start_time": "2023-10-20T11:26:16.628385",
     "status": "completed"
    },
    "tags": []
   },
   "outputs": [],
   "source": [
    "inputs[numeric_cols]=scaler.transform(inputs[numeric_cols])"
   ]
  },
  {
   "cell_type": "markdown",
   "id": "0529916f",
   "metadata": {
    "papermill": {
     "duration": 0.013618,
     "end_time": "2023-10-20T11:26:16.683655",
     "exception": false,
     "start_time": "2023-10-20T11:26:16.670037",
     "status": "completed"
    },
    "tags": []
   },
   "source": [
    "## Encoder"
   ]
  },
  {
   "cell_type": "code",
   "execution_count": 26,
   "id": "ab3a305d",
   "metadata": {
    "execution": {
     "iopub.execute_input": "2023-10-20T11:26:16.713431Z",
     "iopub.status.busy": "2023-10-20T11:26:16.712841Z",
     "iopub.status.idle": "2023-10-20T11:26:16.717849Z",
     "shell.execute_reply": "2023-10-20T11:26:16.716935Z"
    },
    "papermill": {
     "duration": 0.022214,
     "end_time": "2023-10-20T11:26:16.719950",
     "exception": false,
     "start_time": "2023-10-20T11:26:16.697736",
     "status": "completed"
    },
    "tags": []
   },
   "outputs": [],
   "source": [
    "from sklearn.preprocessing import OneHotEncoder"
   ]
  },
  {
   "cell_type": "code",
   "execution_count": 27,
   "id": "98988bb5",
   "metadata": {
    "execution": {
     "iopub.execute_input": "2023-10-20T11:26:16.750637Z",
     "iopub.status.busy": "2023-10-20T11:26:16.749939Z",
     "iopub.status.idle": "2023-10-20T11:26:16.760151Z",
     "shell.execute_reply": "2023-10-20T11:26:16.758998Z"
    },
    "papermill": {
     "duration": 0.027551,
     "end_time": "2023-10-20T11:26:16.762469",
     "exception": false,
     "start_time": "2023-10-20T11:26:16.734918",
     "status": "completed"
    },
    "tags": []
   },
   "outputs": [],
   "source": [
    "encoder=OneHotEncoder(sparse=False,handle_unknown='ignore').fit(inputs[categorical_cols])\n",
    "encoded_cols=list(encoder.get_feature_names_out(categorical_cols))\n"
   ]
  },
  {
   "cell_type": "code",
   "execution_count": 28,
   "id": "6861b16b",
   "metadata": {
    "execution": {
     "iopub.execute_input": "2023-10-20T11:26:16.792287Z",
     "iopub.status.busy": "2023-10-20T11:26:16.791619Z",
     "iopub.status.idle": "2023-10-20T11:26:16.805122Z",
     "shell.execute_reply": "2023-10-20T11:26:16.804403Z"
    },
    "papermill": {
     "duration": 0.030708,
     "end_time": "2023-10-20T11:26:16.807398",
     "exception": false,
     "start_time": "2023-10-20T11:26:16.776690",
     "status": "completed"
    },
    "tags": []
   },
   "outputs": [],
   "source": [
    "inputs[encoded_cols]=encoder.transform(inputs[categorical_cols])\n"
   ]
  },
  {
   "cell_type": "code",
   "execution_count": 29,
   "id": "fe4cf883",
   "metadata": {
    "execution": {
     "iopub.execute_input": "2023-10-20T11:26:16.837060Z",
     "iopub.status.busy": "2023-10-20T11:26:16.836682Z",
     "iopub.status.idle": "2023-10-20T11:26:16.843404Z",
     "shell.execute_reply": "2023-10-20T11:26:16.842505Z"
    },
    "papermill": {
     "duration": 0.024076,
     "end_time": "2023-10-20T11:26:16.845255",
     "exception": false,
     "start_time": "2023-10-20T11:26:16.821179",
     "status": "completed"
    },
    "tags": []
   },
   "outputs": [],
   "source": [
    "X = inputs[numeric_cols + encoded_cols]\n",
    "y=targets"
   ]
  },
  {
   "cell_type": "markdown",
   "id": "8098d04c",
   "metadata": {},
   "source": [
    "## Split data"
   ]
  },
  {
   "cell_type": "code",
   "execution_count": 30,
   "id": "c90f3d05",
   "metadata": {},
   "outputs": [],
   "source": [
    "from sklearn.model_selection import train_test_split\n",
    "X_train,X_test,y_train,y_test=train_test_split(X,y,random_state=42)"
   ]
  },
  {
   "cell_type": "markdown",
   "id": "67730f8c",
   "metadata": {
    "execution": {
     "iopub.execute_input": "2023-10-20T02:04:52.237968Z",
     "iopub.status.busy": "2023-10-20T02:04:52.237584Z",
     "iopub.status.idle": "2023-10-20T02:04:52.253761Z",
     "shell.execute_reply": "2023-10-20T02:04:52.252555Z",
     "shell.execute_reply.started": "2023-10-20T02:04:52.237940Z"
    },
    "papermill": {
     "duration": 0.013364,
     "end_time": "2023-10-20T11:26:16.872390",
     "exception": false,
     "start_time": "2023-10-20T11:26:16.859026",
     "status": "completed"
    },
    "tags": []
   },
   "source": [
    "# Model Building\n",
    "\n",
    "- After testing many model,i came up with Random Forest,which give me more suited for this kind of work"
   ]
  },
  {
   "cell_type": "code",
   "execution_count": 31,
   "id": "88df1389",
   "metadata": {
    "execution": {
     "iopub.execute_input": "2023-10-20T11:26:16.901483Z",
     "iopub.status.busy": "2023-10-20T11:26:16.900815Z",
     "iopub.status.idle": "2023-10-20T11:26:17.672260Z",
     "shell.execute_reply": "2023-10-20T11:26:17.671497Z"
    },
    "papermill": {
     "duration": 0.788106,
     "end_time": "2023-10-20T11:26:17.673989",
     "exception": false,
     "start_time": "2023-10-20T11:26:16.885883",
     "status": "completed"
    },
    "tags": []
   },
   "outputs": [
    {
     "name": "stdout",
     "output_type": "stream",
     "text": [
      "CPU times: total: 31.2 ms\n",
      "Wall time: 232 ms\n"
     ]
    },
    {
     "data": {
      "text/html": [
       "<style>#sk-container-id-1 {color: black;background-color: white;}#sk-container-id-1 pre{padding: 0;}#sk-container-id-1 div.sk-toggleable {background-color: white;}#sk-container-id-1 label.sk-toggleable__label {cursor: pointer;display: block;width: 100%;margin-bottom: 0;padding: 0.3em;box-sizing: border-box;text-align: center;}#sk-container-id-1 label.sk-toggleable__label-arrow:before {content: \"▸\";float: left;margin-right: 0.25em;color: #696969;}#sk-container-id-1 label.sk-toggleable__label-arrow:hover:before {color: black;}#sk-container-id-1 div.sk-estimator:hover label.sk-toggleable__label-arrow:before {color: black;}#sk-container-id-1 div.sk-toggleable__content {max-height: 0;max-width: 0;overflow: hidden;text-align: left;background-color: #f0f8ff;}#sk-container-id-1 div.sk-toggleable__content pre {margin: 0.2em;color: black;border-radius: 0.25em;background-color: #f0f8ff;}#sk-container-id-1 input.sk-toggleable__control:checked~div.sk-toggleable__content {max-height: 200px;max-width: 100%;overflow: auto;}#sk-container-id-1 input.sk-toggleable__control:checked~label.sk-toggleable__label-arrow:before {content: \"▾\";}#sk-container-id-1 div.sk-estimator input.sk-toggleable__control:checked~label.sk-toggleable__label {background-color: #d4ebff;}#sk-container-id-1 div.sk-label input.sk-toggleable__control:checked~label.sk-toggleable__label {background-color: #d4ebff;}#sk-container-id-1 input.sk-hidden--visually {border: 0;clip: rect(1px 1px 1px 1px);clip: rect(1px, 1px, 1px, 1px);height: 1px;margin: -1px;overflow: hidden;padding: 0;position: absolute;width: 1px;}#sk-container-id-1 div.sk-estimator {font-family: monospace;background-color: #f0f8ff;border: 1px dotted black;border-radius: 0.25em;box-sizing: border-box;margin-bottom: 0.5em;}#sk-container-id-1 div.sk-estimator:hover {background-color: #d4ebff;}#sk-container-id-1 div.sk-parallel-item::after {content: \"\";width: 100%;border-bottom: 1px solid gray;flex-grow: 1;}#sk-container-id-1 div.sk-label:hover label.sk-toggleable__label {background-color: #d4ebff;}#sk-container-id-1 div.sk-serial::before {content: \"\";position: absolute;border-left: 1px solid gray;box-sizing: border-box;top: 0;bottom: 0;left: 50%;z-index: 0;}#sk-container-id-1 div.sk-serial {display: flex;flex-direction: column;align-items: center;background-color: white;padding-right: 0.2em;padding-left: 0.2em;position: relative;}#sk-container-id-1 div.sk-item {position: relative;z-index: 1;}#sk-container-id-1 div.sk-parallel {display: flex;align-items: stretch;justify-content: center;background-color: white;position: relative;}#sk-container-id-1 div.sk-item::before, #sk-container-id-1 div.sk-parallel-item::before {content: \"\";position: absolute;border-left: 1px solid gray;box-sizing: border-box;top: 0;bottom: 0;left: 50%;z-index: -1;}#sk-container-id-1 div.sk-parallel-item {display: flex;flex-direction: column;z-index: 1;position: relative;background-color: white;}#sk-container-id-1 div.sk-parallel-item:first-child::after {align-self: flex-end;width: 50%;}#sk-container-id-1 div.sk-parallel-item:last-child::after {align-self: flex-start;width: 50%;}#sk-container-id-1 div.sk-parallel-item:only-child::after {width: 0;}#sk-container-id-1 div.sk-dashed-wrapped {border: 1px dashed gray;margin: 0 0.4em 0.5em 0.4em;box-sizing: border-box;padding-bottom: 0.4em;background-color: white;}#sk-container-id-1 div.sk-label label {font-family: monospace;font-weight: bold;display: inline-block;line-height: 1.2em;}#sk-container-id-1 div.sk-label-container {text-align: center;}#sk-container-id-1 div.sk-container {/* jupyter's `normalize.less` sets `[hidden] { display: none; }` but bootstrap.min.css set `[hidden] { display: none !important; }` so we also need the `!important` here to be able to override the default hidden behavior on the sphinx rendered scikit-learn.org. See: https://github.com/scikit-learn/scikit-learn/issues/21755 */display: inline-block !important;position: relative;}#sk-container-id-1 div.sk-text-repr-fallback {display: none;}</style><div id=\"sk-container-id-1\" class=\"sk-top-container\"><div class=\"sk-text-repr-fallback\"><pre>RandomForestClassifier(n_jobs=-1)</pre><b>In a Jupyter environment, please rerun this cell to show the HTML representation or trust the notebook. <br />On GitHub, the HTML representation is unable to render, please try loading this page with nbviewer.org.</b></div><div class=\"sk-container\" hidden><div class=\"sk-item\"><div class=\"sk-estimator sk-toggleable\"><input class=\"sk-toggleable__control sk-hidden--visually\" id=\"sk-estimator-id-1\" type=\"checkbox\" checked><label for=\"sk-estimator-id-1\" class=\"sk-toggleable__label sk-toggleable__label-arrow\">RandomForestClassifier</label><div class=\"sk-toggleable__content\"><pre>RandomForestClassifier(n_jobs=-1)</pre></div></div></div></div></div>"
      ],
      "text/plain": [
       "RandomForestClassifier(n_jobs=-1)"
      ]
     },
     "execution_count": 31,
     "metadata": {},
     "output_type": "execute_result"
    }
   ],
   "source": [
    "%%time\n",
    "from sklearn.ensemble import RandomForestClassifier\n",
    "model=RandomForestClassifier(n_jobs=-1)\n",
    "model.fit(X_train,y_train)"
   ]
  },
  {
   "cell_type": "markdown",
   "id": "ae78f711",
   "metadata": {
    "papermill": {
     "duration": 0.01392,
     "end_time": "2023-10-20T11:26:17.702466",
     "exception": false,
     "start_time": "2023-10-20T11:26:17.688546",
     "status": "completed"
    },
    "tags": []
   },
   "source": [
    "# Evalution"
   ]
  },
  {
   "cell_type": "code",
   "execution_count": 32,
   "id": "55842b95",
   "metadata": {
    "execution": {
     "iopub.execute_input": "2023-10-20T11:26:17.733003Z",
     "iopub.status.busy": "2023-10-20T11:26:17.732596Z",
     "iopub.status.idle": "2023-10-20T11:26:17.767972Z",
     "shell.execute_reply": "2023-10-20T11:26:17.767299Z"
    },
    "papermill": {
     "duration": 0.05315,
     "end_time": "2023-10-20T11:26:17.769821",
     "exception": false,
     "start_time": "2023-10-20T11:26:17.716671",
     "status": "completed"
    },
    "tags": []
   },
   "outputs": [
    {
     "data": {
      "text/html": [
       "<div>\n",
       "<style scoped>\n",
       "    .dataframe tbody tr th:only-of-type {\n",
       "        vertical-align: middle;\n",
       "    }\n",
       "\n",
       "    .dataframe tbody tr th {\n",
       "        vertical-align: top;\n",
       "    }\n",
       "\n",
       "    .dataframe thead th {\n",
       "        text-align: right;\n",
       "    }\n",
       "</style>\n",
       "<table border=\"1\" class=\"dataframe\">\n",
       "  <thead>\n",
       "    <tr style=\"text-align: right;\">\n",
       "      <th></th>\n",
       "      <th>features</th>\n",
       "      <th>importance</th>\n",
       "    </tr>\n",
       "  </thead>\n",
       "  <tbody>\n",
       "    <tr>\n",
       "      <th>3</th>\n",
       "      <td>Fare</td>\n",
       "      <td>0.391339</td>\n",
       "    </tr>\n",
       "    <tr>\n",
       "      <th>5</th>\n",
       "      <td>Sex_male</td>\n",
       "      <td>0.171156</td>\n",
       "    </tr>\n",
       "    <tr>\n",
       "      <th>4</th>\n",
       "      <td>Sex_female</td>\n",
       "      <td>0.148036</td>\n",
       "    </tr>\n",
       "    <tr>\n",
       "      <th>0</th>\n",
       "      <td>Pclass</td>\n",
       "      <td>0.105412</td>\n",
       "    </tr>\n",
       "    <tr>\n",
       "      <th>1</th>\n",
       "      <td>SibSp</td>\n",
       "      <td>0.068428</td>\n",
       "    </tr>\n",
       "    <tr>\n",
       "      <th>2</th>\n",
       "      <td>Parch</td>\n",
       "      <td>0.056130</td>\n",
       "    </tr>\n",
       "    <tr>\n",
       "      <th>7</th>\n",
       "      <td>age_group_child</td>\n",
       "      <td>0.030631</td>\n",
       "    </tr>\n",
       "    <tr>\n",
       "      <th>6</th>\n",
       "      <td>age_group_adult</td>\n",
       "      <td>0.014448</td>\n",
       "    </tr>\n",
       "    <tr>\n",
       "      <th>8</th>\n",
       "      <td>age_group_old</td>\n",
       "      <td>0.014422</td>\n",
       "    </tr>\n",
       "  </tbody>\n",
       "</table>\n",
       "</div>"
      ],
      "text/plain": [
       "          features  importance\n",
       "3             Fare    0.391339\n",
       "5         Sex_male    0.171156\n",
       "4       Sex_female    0.148036\n",
       "0           Pclass    0.105412\n",
       "1            SibSp    0.068428\n",
       "2            Parch    0.056130\n",
       "7  age_group_child    0.030631\n",
       "6  age_group_adult    0.014448\n",
       "8    age_group_old    0.014422"
      ]
     },
     "execution_count": 32,
     "metadata": {},
     "output_type": "execute_result"
    }
   ],
   "source": [
    "importance_feature=pd.DataFrame({\n",
    "    'features':X.columns,\n",
    "    'importance':model.feature_importances_\n",
    "}).sort_values('importance',ascending=False)\n",
    "\n",
    "importance_feature"
   ]
  },
  {
   "cell_type": "code",
   "execution_count": 33,
   "id": "78ca00ab",
   "metadata": {
    "execution": {
     "iopub.execute_input": "2023-10-20T11:26:17.800543Z",
     "iopub.status.busy": "2023-10-20T11:26:17.799645Z",
     "iopub.status.idle": "2023-10-20T11:26:18.087914Z",
     "shell.execute_reply": "2023-10-20T11:26:18.086781Z"
    },
    "papermill": {
     "duration": 0.305898,
     "end_time": "2023-10-20T11:26:18.090051",
     "exception": false,
     "start_time": "2023-10-20T11:26:17.784153",
     "status": "completed"
    },
    "tags": []
   },
   "outputs": [
    {
     "data": {
      "image/png": "[encoded data removed]",
      "text/plain": [
       "<Figure size 640x480 with 1 Axes>"
      ]
     },
     "metadata": {},
     "output_type": "display_data"
    }
   ],
   "source": [
    "sns.barplot(data=importance_feature,x='importance',y='features');"
   ]
  },
  {
   "cell_type": "code",
   "execution_count": 34,
   "id": "977a74fc",
   "metadata": {
    "execution": {
     "iopub.execute_input": "2023-10-20T11:26:18.121589Z",
     "iopub.status.busy": "2023-10-20T11:26:18.121222Z",
     "iopub.status.idle": "2023-10-20T11:26:18.126277Z",
     "shell.execute_reply": "2023-10-20T11:26:18.125288Z"
    },
    "papermill": {
     "duration": 0.02328,
     "end_time": "2023-10-20T11:26:18.128236",
     "exception": false,
     "start_time": "2023-10-20T11:26:18.104956",
     "status": "completed"
    },
    "tags": []
   },
   "outputs": [],
   "source": [
    "from sklearn.metrics import mean_squared_error\n",
    "def rmse(a,b):\n",
    "    return mean_squared_error(a,b,squared=False)"
   ]
  },
  {
   "cell_type": "code",
   "execution_count": 35,
   "id": "8b2f8be5",
   "metadata": {
    "execution": {
     "iopub.execute_input": "2023-10-20T11:26:18.159610Z",
     "iopub.status.busy": "2023-10-20T11:26:18.159245Z",
     "iopub.status.idle": "2023-10-20T11:26:18.210622Z",
     "shell.execute_reply": "2023-10-20T11:26:18.209831Z"
    },
    "papermill": {
     "duration": 0.06968,
     "end_time": "2023-10-20T11:26:18.212876",
     "exception": false,
     "start_time": "2023-10-20T11:26:18.143196",
     "status": "completed"
    },
    "tags": []
   },
   "outputs": [],
   "source": [
    "preds=model.predict(X_test)"
   ]
  },
  {
   "cell_type": "code",
   "execution_count": 36,
   "id": "542c948d",
   "metadata": {
    "execution": {
     "iopub.execute_input": "2023-10-20T11:26:18.247084Z",
     "iopub.status.busy": "2023-10-20T11:26:18.246558Z",
     "iopub.status.idle": "2023-10-20T11:26:18.252362Z",
     "shell.execute_reply": "2023-10-20T11:26:18.251277Z"
    },
    "papermill": {
     "duration": 0.025255,
     "end_time": "2023-10-20T11:26:18.254481",
     "exception": false,
     "start_time": "2023-10-20T11:26:18.229226",
     "status": "completed"
    },
    "scrolled": true,
    "tags": []
   },
   "outputs": [
    {
     "data": {
      "text/plain": [
       "0.43398249639229447"
      ]
     },
     "execution_count": 36,
     "metadata": {},
     "output_type": "execute_result"
    }
   ],
   "source": [
    "rmse(y_test,preds)"
   ]
  },
  {
   "cell_type": "markdown",
   "id": "f21a86f4",
   "metadata": {},
   "source": [
    "### Accuracy"
   ]
  },
  {
   "cell_type": "code",
   "execution_count": 37,
   "id": "5021642e",
   "metadata": {},
   "outputs": [
    {
     "data": {
      "text/plain": [
       "0.8116591928251121"
      ]
     },
     "execution_count": 37,
     "metadata": {},
     "output_type": "execute_result"
    }
   ],
   "source": [
    "model.score(X_test,y_test)"
   ]
  },
  {
   "cell_type": "markdown",
   "id": "c546173c",
   "metadata": {},
   "source": [
    "### Confusion Matrix"
   ]
  },
  {
   "cell_type": "code",
   "execution_count": 38,
   "id": "2ec24964",
   "metadata": {},
   "outputs": [],
   "source": [
    "from sklearn.metrics import ConfusionMatrixDisplay"
   ]
  },
  {
   "cell_type": "code",
   "execution_count": 40,
   "id": "5efbb589",
   "metadata": {},
   "outputs": [
    {
     "data": {
      "image/png": "[encoded data removed]",
      "text/plain": [
       "<Figure size 640x480 with 2 Axes>"
      ]
     },
     "metadata": {},
     "output_type": "display_data"
    }
   ],
   "source": [
    "ConfusionMatrixDisplay.from_predictions(y_test,preds);"
   ]
  }
 ],
 "metadata": {
  "kernelspec": {
   "display_name": "Python 3 (ipykernel)",
   "language": "python",
   "name": "python3"
  },
  "language_info": {
   "codemirror_mode": {
    "name": "ipython",
    "version": 3
   },
   "file_extension": ".py",
   "mimetype": "text/x-python",
   "name": "python",
   "nbconvert_exporter": "python",
   "pygments_lexer": "ipython3",
   "version": "3.11.5"
  },
  "papermill": {
   "default_parameters": {},
   "duration": 10.582545,
   "end_time": "2023-10-20T11:26:19.119714",
   "environment_variables": {},
   "exception": null,
   "input_path": "__notebook__.ipynb",
   "output_path": "__notebook__.ipynb",
   "parameters": {},
   "start_time": "2023-10-20T11:26:08.537169",
   "version": "2.4.0"
  }
 },
 "nbformat": 4,
 "nbformat_minor": 5
}
